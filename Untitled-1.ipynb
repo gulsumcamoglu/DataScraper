{
 "metadata": {
  "language_info": {
   "codemirror_mode": {
    "name": "ipython",
    "version": 3
   },
   "file_extension": ".py",
   "mimetype": "text/x-python",
   "name": "python",
   "nbconvert_exporter": "python",
   "pygments_lexer": "ipython3",
   "version": "3.8.3-final"
  },
  "orig_nbformat": 2,
  "kernelspec": {
   "name": "python383jvsc74a57bd03a7853f465984184c2db926f12cf0514f49bd82ebd08c64e7d47bb74214f72b4",
   "display_name": "Python 3.8.3 64-bit (conda)"
  },
  "metadata": {
   "interpreter": {
    "hash": "670ac0503b5e7d8d2cc976e7c90ae1069210f4a5d460c715c7316febc0806514"
   }
  }
 },
 "nbformat": 4,
 "nbformat_minor": 2,
 "cells": [
  {
   "source": [
    "import numpy as np\n",
    "a = np.array([1,2,3,4,4,5])"
   ],
   "cell_type": "code",
   "metadata": {},
   "execution_count": 1,
   "outputs": []
  },
  {
   "cell_type": "code",
   "execution_count": 2,
   "metadata": {},
   "outputs": [
    {
     "output_type": "execute_result",
     "data": {
      "text/plain": [
       "array([1, 2, 3, 4, 4, 5])"
      ]
     },
     "metadata": {},
     "execution_count": 2
    }
   ],
   "source": [
    "a"
   ]
  },
  {
   "cell_type": "code",
   "execution_count": null,
   "metadata": {},
   "outputs": [],
   "source": []
  },
  {
   "cell_type": "code",
   "execution_count": 41,
   "metadata": {},
   "outputs": [],
   "source": [
    "import bs4\n",
    "import requests as req"
   ]
  },
  {
   "cell_type": "code",
   "execution_count": 118,
   "metadata": {},
   "outputs": [],
   "source": [
    " res = req.get(\"https://www.etsy.com/uk/listing/593579116/plant-enthusiast-bookmarks\")"
   ]
  },
  {
   "cell_type": "code",
   "execution_count": 119,
   "metadata": {},
   "outputs": [
    {
     "output_type": "execute_result",
     "data": {
      "text/plain": [
       "requests.models.Response"
      ]
     },
     "metadata": {},
     "execution_count": 119
    }
   ],
   "source": [
    "type(res)"
   ]
  },
  {
   "cell_type": "code",
   "execution_count": 120,
   "metadata": {},
   "outputs": [],
   "source": [
    "def getLink(a):\n",
    "    res = req.get(a)"
   ]
  },
  {
   "source": [],
   "cell_type": "code",
   "metadata": {},
   "execution_count": null,
   "outputs": []
  },
  {
   "cell_type": "code",
   "execution_count": 121,
   "metadata": {},
   "outputs": [],
   "source": [
    "soup = bs4.BeautifulSoup(res.text,'lxml')"
   ]
  },
  {
   "cell_type": "code",
   "execution_count": 122,
   "metadata": {},
   "outputs": [
    {
     "output_type": "execute_result",
     "data": {
      "text/plain": [
       "bs4.BeautifulSoup"
      ]
     },
     "metadata": {},
     "execution_count": 122
    }
   ],
   "source": [
    "type(soup)"
   ]
  },
  {
   "cell_type": "code",
   "execution_count": 123,
   "metadata": {},
   "outputs": [],
   "source": [
    "title = soup.select(\"h1.wt-text-body-03\")"
   ]
  },
  {
   "cell_type": "code",
   "execution_count": 142,
   "metadata": {},
   "outputs": [
    {
     "output_type": "execute_result",
     "data": {
      "text/plain": [
       "bs4.element.ResultSet"
      ]
     },
     "metadata": {},
     "execution_count": 142
    }
   ],
   "source": [
    "type(title)"
   ]
  },
  {
   "cell_type": "code",
   "execution_count": 143,
   "metadata": {},
   "outputs": [
    {
     "output_type": "execute_result",
     "data": {
      "text/plain": [
       "[<h1 class=\"wt-text-body-03 wt-line-height-tight wt-break-word wt-mb-xs-1\" data-buy-box-listing-title=\"\" data-listing-id=\"593579116\">\n",
       "             Plant Enthusiast bookmarks\n",
       "         </h1>]"
      ]
     },
     "metadata": {},
     "execution_count": 143
    }
   ],
   "source": [
    "title"
   ]
  },
  {
   "cell_type": "code",
   "execution_count": 144,
   "metadata": {},
   "outputs": [
    {
     "output_type": "stream",
     "name": "stdout",
     "text": [
      "\n            Plant Enthusiast bookmarks\n        \n"
     ]
    }
   ],
   "source": [
    "for i in title:\n",
    "    print(i.text)\n"
   ]
  },
  {
   "cell_type": "code",
   "execution_count": 209,
   "metadata": {},
   "outputs": [],
   "source": [
    "img = soup.select(\".wt-max-width-full.wt-horizontal-center.wt-vertical-center.carousel-image.wt-rounded\")"
   ]
  },
  {
   "cell_type": "code",
   "execution_count": 210,
   "metadata": {},
   "outputs": [
    {
     "output_type": "execute_result",
     "data": {
      "text/plain": [
       "bs4.element.ResultSet"
      ]
     },
     "metadata": {},
     "execution_count": 210
    }
   ],
   "source": [
    "type(img)"
   ]
  },
  {
   "cell_type": "code",
   "execution_count": 211,
   "metadata": {},
   "outputs": [
    {
     "output_type": "execute_result",
     "data": {
      "text/plain": [
       "[<img alt=\"Plant Enthusiast bookmarks image 0\" class=\"wt-max-width-full wt-horizontal-center wt-vertical-center carousel-image wt-rounded\" data-carousel-first-image=\"\" data-index=\"0\" data-original-image-width=\"1000\" data-src-zoom-image=\"https://i.etsystatic.com/12149676/r/il/2017f1/1659386185/il_fullxfull.1659386185_qn4d.jpg\" src=\"https://i.etsystatic.com/12149676/r/il/2017f1/1659386185/il_794xN.1659386185_qn4d.jpg\" srcset=\"https://i.etsystatic.com/12149676/r/il/2017f1/1659386185/il_794xN.1659386185_qn4d.jpg 1x, https://i.etsystatic.com/12149676/r/il/2017f1/1659386185/il_1588xN.1659386185_qn4d.jpg 2x\"/>,\n",
       " <img alt=\"Plant Enthusiast bookmarks image 1\" class=\"wt-max-width-full wt-horizontal-center wt-vertical-center carousel-image wt-rounded\" data-index=\"1\" data-original-image-width=\"2172\" data-src=\"https://i.etsystatic.com/12149676/r/il/03245a/2028726250/il_794xN.2028726250_pgio.jpg\" data-src-zoom-image=\"https://i.etsystatic.com/12149676/r/il/03245a/2028726250/il_fullxfull.2028726250_pgio.jpg\" data-srcset=\"https://i.etsystatic.com/12149676/r/il/03245a/2028726250/il_794xN.2028726250_pgio.jpg 1x, https://i.etsystatic.com/12149676/r/il/03245a/2028726250/il_1588xN.2028726250_pgio.jpg 2x\"/>,\n",
       " <img alt=\"Plant Enthusiast bookmarks image 2\" class=\"wt-max-width-full wt-horizontal-center wt-vertical-center carousel-image wt-rounded\" data-index=\"2\" data-original-image-width=\"1500\" data-src=\"https://i.etsystatic.com/12149676/r/il/526be0/1524897207/il_794xN.1524897207_m6g5.jpg\" data-src-zoom-image=\"https://i.etsystatic.com/12149676/r/il/526be0/1524897207/il_fullxfull.1524897207_m6g5.jpg\" data-srcset=\"https://i.etsystatic.com/12149676/r/il/526be0/1524897207/il_794xN.1524897207_m6g5.jpg 1x, https://i.etsystatic.com/12149676/r/il/526be0/1524897207/il_1588xN.1524897207_m6g5.jpg 2x\"/>]"
      ]
     },
     "metadata": {},
     "execution_count": 211
    }
   ],
   "source": [
    "img"
   ]
  },
  {
   "cell_type": "code",
   "execution_count": 218,
   "metadata": {},
   "outputs": [
    {
     "output_type": "stream",
     "name": "stdout",
     "text": [
      "https://i.etsystatic.com/12149676/r/il/2017f1/1659386185/il_fullxfull.1659386185_qn4d.jpg\n"
     ]
    }
   ],
   "source": [
    "for i in img:\n",
    "    if i[\"alt\"] == \"Plant Enthusiast bookmarks image 0\":\n",
    "        print(i[\"data-src-zoom-image\"])"
   ]
  },
  {
   "cell_type": "code",
   "execution_count": 30,
   "metadata": {},
   "outputs": [],
   "source": [
    "def getirici(name):\n",
    "    soup = bs4.BeautifulSoup(res.text,'lxml')  \n",
    "    getirilen =soup.select(name)\n",
    "    if getirilen[0].getText() == \"Jewellery favourites\":\n",
    "        return getirilen[0].getText()\n",
    "      \n"
   ]
  },
  {
   "cell_type": "code",
   "execution_count": 31,
   "metadata": {},
   "outputs": [],
   "source": [
    "getirici(\"p\")"
   ]
  },
  {
   "cell_type": "code",
   "execution_count": 35,
   "metadata": {},
   "outputs": [],
   "source": [
    "price = soup.select(\".wt-text-black wt-text-title-01\")"
   ]
  },
  {
   "cell_type": "code",
   "execution_count": null,
   "metadata": {},
   "outputs": [],
   "source": []
  },
  {
   "cell_type": "code",
   "execution_count": null,
   "metadata": {},
   "outputs": [],
   "source": []
  },
  {
   "cell_type": "code",
   "execution_count": 27,
   "metadata": {},
   "outputs": [
    {
     "output_type": "execute_result",
     "data": {
      "text/plain": [
       "[<p>Etsy uses cookies and similar technologies to give you a better experience, enabling things like:</p>,\n",
       " <p>Detailed information can be found in Etsy’s <a href=\"/uk/legal/cookies-and-tracking-technologies\">Cookies &amp; Similar Technologies Policy</a> and our <a href=\"/uk/legal/privacy\">Privacy Policy</a>.</p>,\n",
       " <p>Some of the technologies we use are necessary for critical functions like security and site integrity, account authentication, security and privacy preferences, internal site usage and maintenance data, and to make the site work correctly for browsing and transactions.</p>,\n",
       " <p class=\"wt-text-caption wt-mb-xs-2 wt-max-width-sm\">These are third party technologies used for things like interest based Etsy ads.</p>,\n",
       " <p class=\"wt-text-caption wt-mb-xs-2 wt-max-width-sm\"> We do this with marketing and advertising partners (who may have their own information they’ve collected). Saying no will not stop you from seeing Etsy ads or impact Etsy's own personalisation technologies, but it may make the ads you see less relevant or more repetitive. Find out more in our <a class=\"wt-text-link\" href=\"https://www.etsy.com/uk/legal/cookies\">Cookies &amp; Similar Technologies Policy.</a></p>,\n",
       " <p class=\"wt-pl-xs-10 wt-pr-xs-10 wt-pl-sm-10 wt-pr-sm-10 wt-pl-md-0 wt-pr-md-0 wt-pl-lg-0 wt-pr-lg-0 wt-pl-xl-0 wt-pr-xl-0 wt-pl-tv-0 wt-pr-tv-0\">Done</p>,\n",
       " <p class=\"wt-text-black wt-text-title-01\">Jewellery favourites</p>,\n",
       " <p class=\"wt-text-black wt-text-title-01\">Women's fashion</p>,\n",
       " <p class=\"wt-text-black wt-text-title-01\">Home favourites</p>,\n",
       " <p class=\"wt-text-black wt-text-title-01\">Wedding style guide</p>,\n",
       " <p class=\"wt-text-black wt-text-title-01\">Home accessories</p>,\n",
       " <p class=\"wt-text-black wt-text-title-01\">Home gallery</p>,\n",
       " <p class=\"wt-text-black wt-text-title-01\">DIY craft projects</p>,\n",
       " <p class=\"wt-text-body-01 wt-mr-xs-1\">\n",
       " <a aria-label=\"View more products from shop owner AnotherStudio\" class=\"wt-text-link-no-underline\" href=\"https://www.etsy.com/uk/shop/AnotherStudio?ref=simple-shop-header-name&amp;listing_id=772695061\">\n",
       " <span aria-hidden=\"true\">\n",
       "                 AnotherStudio\n",
       "             </span>\n",
       " </a>\n",
       " </p>,\n",
       " <p class=\"wt-text-body-01\"><b>United Kingdom-based shop</b></p>,\n",
       " <p class=\"wt-text-caption\">You’re supporting a shop close to home with your purchase.</p>,\n",
       " <p class=\"wt-text-title-03 wt-mr-xs-2\">\n",
       "                         £9.50\n",
       "                     </p>,\n",
       " <p class=\"wt-text-caption wt-text-right-xs wt-no-wrap wt-ml-xs-1\"><b>In stock</b></p>,\n",
       " <p class=\"purchase-accept-terms wt-display-none wt-mt-xs-3 wt-text-gray wt-text-caption wt-width-full\"></p>,\n",
       " <p class=\"wt-position-relative wt-text-caption\">\n",
       " <strong>Other people want this.</strong> 18 people have this in their baskets right now.\n",
       "     </p>,\n",
       " <p class=\"wt-mb-xs-2 wt-text-caption\">\n",
       "         The estimated delivery date is based on your purchase date, the recipient's location, the seller's processing time and location, and the delivery carrier. Other factors — like placing an order on a weekend or a bank holiday — may end up pushing the arrival of your item beyond the estimated delivery date. It's our hope that your item gets where it's going as soon as possible, but given the factors involved, this is only an estimate.\n",
       "     </p>,\n",
       " <p class=\"wt-text-caption\">\n",
       " <a class=\"wt-text-link\" href=\"https://help.etsy.com/hc/articles/360020601674\" tabindex=\"0\" target=\"_blank\">Learn more</a>\n",
       " </p>,\n",
       " <p class=\"wt-text-truncate\" id=\"legacy-materials\">\n",
       " <span class=\"wt-text-body-01\">Materials: Small metallic</span>\n",
       " </p>,\n",
       " <p class=\"wt-text-body-01 wt-break-word\" data-product-details-description-text-content=\"\">\n",
       "                     A beautiful set of etched leaf bookmarks.<br/><br/>Featuring four unique leaves: Maranta Leuconeura, Peperomia Argyreia, Caladium bicolour and the Begonia Maculata.<br/><br/>Etched in stainless steel or brass, they simply clip onto your page or file and protected with biodegradable clear sleeve<br/><br/>Contents: Leaf bookmarks<br/>Materials: Stainless steel, biodegradable sleeve<br/>Packaging Dimensions: 15 x 11 cm<br/><br/><br/>A message for our EU customers on Brexit<br/><br/>To avoid any unwanted custom charges, we suggest you order up to a value of €22+ / £19+ per order.<br/><br/>EU customers may have to pay custom fees on orders that have a total product value greater than €22+ / £19+. These fees will be charged at point of entry by the courier or postal service and will include import VAT (at your countries standard VAT rate) and a customs handling fee which is usually €8 - €15 per parcel. Which will need to be paid for these prior to your order being delivered. <br/>If you have any questions, please get in touch!\n",
       "                 </p>,\n",
       " <p class=\"wt-text-body-01 wt-mt-xs-1\">Did you find the above description useful? Let Etsy know.</p>,\n",
       " <p class=\"wt-text-caption-title wt-ml-xs-1\">\n",
       "             Thanks for your feedback\n",
       "         </p>,\n",
       " <p class=\"wt-text-caption wt-text-gray\">Estimated arrival</p>,\n",
       " <p class=\"wt-mb-xs-2 wt-text-caption\">\n",
       "         The estimated delivery date is based on your purchase date, the recipient's location, the seller's processing time and location, and the delivery carrier. Other factors — like placing an order on a weekend or a bank holiday — may end up pushing the arrival of your item beyond the estimated delivery date. It's our hope that your item gets where it's going as soon as possible, but given the factors involved, this is only an estimate.\n",
       "     </p>,\n",
       " <p class=\"wt-text-caption\">\n",
       " <a class=\"wt-text-link\" href=\"https://help.etsy.com/hc/articles/360020601674\" tabindex=\"0\" target=\"_blank\">Learn more</a>\n",
       " </p>,\n",
       " <p class=\"wt-text-body-03 wt-mt-xs-1 wt-line-height-tight\" data-edd-absolute=\"\">08-14 Apr. </p>,\n",
       " <p class=\"wt-mt-xs-2 wt-text-black wt-text-caption-title wt-line-height-tight\">02 Apr.</p>,\n",
       " <p class=\"wt-text-caption\">\n",
       "                 After you place your order, AnotherStudio will take 3-5 business days to prepare it for dispatch.\n",
       "             </p>,\n",
       " <p class=\"wt-mt-xs-2 wt-text-black wt-text-caption-title wt-line-height-tight\">07-09 Apr.</p>,\n",
       " <p class=\"wt-text-caption\">\n",
       "                 AnotherStudio puts your order in the post.\n",
       "             </p>,\n",
       " <p class=\"wt-mt-xs-2 wt-text-black wt-text-caption-title wt-line-height-tight\">08-14 Apr.</p>,\n",
       " <p class=\"wt-text-caption\">\n",
       "                 Estimated to arrive at your doorstep 08-14 Apr.!\n",
       "             </p>,\n",
       " <p class=\"wt-text-body-03 wt-mt-xs-1 wt-line-height-tight\"><span class=\"currency-symbol\">£</span><span class=\"currency-value\">1.50</span></p>,\n",
       " <p class=\"wt-text-body-03 wt-mt-xs-1 wt-line-height-tight\">Accepted</p>,\n",
       " <p class=\"wt-text-body-01\" id=\"estimated-shipping-error\">There was a problem calculating your postage. Please try again.</p>,\n",
       " <p class=\"wt-text-body-03 wt-line-height-tight wt-mb-xs-1\">Aimee Furnival</p>,\n",
       " <p class=\"wt-text-black wt-text-caption\">\n",
       "                 Owner of <a class=\"wt-text-link\" href=\"https://www.etsy.com/uk/shop/AnotherStudio?ref=l2-about-shopname\">AnotherStudio</a>\n",
       " </p>,\n",
       " <p class=\"wt-text-caption wt-text-center-xs wt-pt-xs-2 wt-text-gray\">\n",
       "             This seller usually responds <b>within 24 hours.</b>\n",
       " </p>,\n",
       " <p class=\"wt-text-body-01 wt-mt-xs-1\">You’re supporting a shop close to home with your purchase.&gt;\n",
       " </p>,\n",
       " <p class=\"wt-text-caption-title wt-display-inline\">Buyers are raving!</p>,\n",
       " <p class=\"wt-text-caption wt-display-inline\">Multiple people gave 5-star reviews to this shop in the past 7 days.</p>,\n",
       " <p class=\"wt-text-caption wt-text-gray\">\n",
       " <a aria-label=\"Reviewer Lauren West\" class=\"wt-text-link wt-mr-xs-1\" data-review-username=\"\" data-transaction-id=\"1949833154\" href=\"/uk/people/laurenw1217\">\n",
       "                 Lauren West\n",
       "             </a>\n",
       "                   18 Jul, 2020\n",
       "             </p>,\n",
       " <p class=\"wt-text-caption wt-text-gray wt-ml-lg\">\n",
       " </p>,\n",
       " <p class=\"wt-text-truncate--multi-line wt-break-word\" id=\"review-preview-toggle-0\">\n",
       "             Just beautiful!\n",
       "         </p>,\n",
       " <p class=\"wt-text-caption wt-text-gray\">\n",
       " <a aria-label=\"Reviewer Kathryn Yaeger\" class=\"wt-text-link wt-mr-xs-1\" data-review-username=\"\" data-transaction-id=\"1884877211\" href=\"/uk/people/kayyaeger\">\n",
       "                 Kathryn Yaeger\n",
       "             </a>\n",
       "                   01 Jul, 2020\n",
       "             </p>,\n",
       " <p class=\"wt-text-caption wt-text-gray wt-ml-lg\">\n",
       " </p>,\n",
       " <p class=\"wt-text-truncate--multi-line wt-break-word\" id=\"review-preview-toggle-1\">\n",
       "             Love it! Gave as a gift to a plant-loving friend and she adores it!\n",
       "         </p>,\n",
       " <p class=\"wt-text-caption wt-text-gray\">\n",
       " <a aria-label=\"Reviewer Mildred Sera Roberts\" class=\"wt-text-link wt-mr-xs-1\" data-review-username=\"\" data-transaction-id=\"1911122591\" href=\"/uk/people/mildredseraroberts\">\n",
       "                 Mildred Sera Roberts\n",
       "             </a>\n",
       "                   17 Jul, 2020\n",
       "             </p>,\n",
       " <p class=\"wt-text-caption wt-text-gray wt-ml-lg\">\n",
       " </p>,\n",
       " <p class=\"wt-text-truncate--multi-line wt-break-word\" id=\"review-preview-toggle-2\">\n",
       "             I received your book markers and they are very nice.\n",
       "         </p>,\n",
       " <p class=\"wt-text-caption wt-text-gray\">\n",
       " <a aria-label=\"Reviewer Kate\" class=\"wt-text-link wt-mr-xs-1\" data-review-username=\"\" data-transaction-id=\"2111114940\" href=\"/uk/people/6ys1pgb2\">\n",
       "                 Kate\n",
       "             </a>\n",
       "                   26 Nov, 2020\n",
       "             </p>,\n",
       " <p class=\"wt-text-caption wt-text-gray wt-ml-lg\">\n",
       " </p>,\n",
       " <p class=\"wt-text-truncate--multi-line wt-break-word\" id=\"review-preview-toggle-3\">\n",
       "             What glorious bookmarks! Almost too good to gift them away - will no doubt be ordering more\n",
       "         </p>,\n",
       " <p class=\"wt-text-body-01 wt-mb-xs-2\">\n",
       "             Photos from reviews\n",
       "         </p>,\n",
       " <p>\n",
       " </p>,\n",
       " <p class=\"wt-text-gray wt-text-caption wt-text-truncate wt-mb-xs-1\">\n",
       "                 AnotherStudio\n",
       "             </p>,\n",
       " <p class=\"recs-listing-grid-price wt-pr-xs-1 wt-text-title-01\">\n",
       " <span class=\"currency-symbol\">£</span><span class=\"currency-value\">10.50</span>\n",
       " </p>,\n",
       " <p>\n",
       " </p>,\n",
       " <p class=\"wt-text-gray wt-text-caption wt-text-truncate wt-mb-xs-1\">\n",
       "                 AnotherStudio\n",
       "             </p>,\n",
       " <p class=\"recs-listing-grid-price wt-pr-xs-1 wt-text-title-01\">\n",
       " <span class=\"currency-symbol\">£</span><span class=\"currency-value\">5.75</span>\n",
       " </p>,\n",
       " <p>\n",
       " </p>,\n",
       " <p class=\"wt-text-gray wt-text-caption wt-text-truncate wt-mb-xs-1\">\n",
       "                 AnotherStudio\n",
       "             </p>,\n",
       " <p class=\"recs-listing-grid-price wt-pr-xs-1 wt-text-title-01\">\n",
       " <span class=\"currency-symbol\">£</span><span class=\"currency-value\">9.95</span>\n",
       " </p>,\n",
       " <p>\n",
       " </p>,\n",
       " <p class=\"wt-text-gray wt-text-caption wt-text-truncate wt-mb-xs-1\">\n",
       "                 AnotherStudio\n",
       "             </p>,\n",
       " <p class=\"recs-listing-grid-price wt-pr-xs-1 wt-text-title-01\">\n",
       " <span class=\"currency-symbol\">£</span><span class=\"currency-value\">6.95</span>\n",
       " </p>,\n",
       " <p>\n",
       " </p>,\n",
       " <p class=\"wt-text-gray wt-text-caption wt-text-truncate wt-mb-xs-1\">\n",
       "                 TheGipsyMaker\n",
       "             </p>,\n",
       " <p class=\"recs-listing-grid-price wt-pr-xs-1 wt-text-title-01\">\n",
       " <span class=\"currency-symbol\">£</span><span class=\"currency-value\">12.00</span>\n",
       " </p>,\n",
       " <p>\n",
       " </p>,\n",
       " <p class=\"wt-text-gray wt-text-caption wt-text-truncate wt-mb-xs-1\">\n",
       "                 FreyasPrints\n",
       "             </p>,\n",
       " <p class=\"recs-listing-grid-price wt-pr-xs-1 wt-text-title-01\">\n",
       " <span class=\"currency-symbol\">£</span><span class=\"currency-value\">5.00</span>\n",
       " </p>,\n",
       " <p>\n",
       " </p>,\n",
       " <p class=\"wt-text-gray wt-text-caption wt-text-truncate wt-mb-xs-1\">\n",
       "                 AubreyCSanders\n",
       "             </p>,\n",
       " <p class=\"recs-listing-grid-price wt-pr-xs-1 wt-text-title-01\">\n",
       " <span class=\"currency-symbol\">£</span><span class=\"currency-value\">7.29</span>\n",
       " </p>,\n",
       " <p>\n",
       " </p>,\n",
       " <p class=\"wt-text-gray wt-text-caption wt-text-truncate wt-mb-xs-1\">\n",
       "                 PhoebeHandCrafted\n",
       "             </p>,\n",
       " <p class=\"recs-listing-grid-price wt-pr-xs-1 wt-text-title-01\">\n",
       " <span class=\"wt-screen-reader-only\">\n",
       "                             Sale Price £5.81\n",
       "                         </span>\n",
       " <span aria-hidden=\"true\">\n",
       " <span class=\"currency-symbol\">£</span><span class=\"currency-value\">5.81</span>\n",
       " </span>\n",
       " </p>,\n",
       " <p class=\"wt-text-caption wt-text-truncate wt-no-wrap wt-text-slime\">\n",
       " <span aria-hidden=\"true\" class=\"wt-text-strikethrough\"><span class=\"currency-symbol\">£</span><span class=\"currency-value\">6.97</span></span>\n",
       " <span class=\"wt-screen-reader-only\">\n",
       "                                 Original Price £6.97\"\n",
       "                             </span>\n",
       " <span>\n",
       "                                 (15% off)\n",
       "                             </span>\n",
       " </p>,\n",
       " <p class=\"wt-mb-xs-2 prose\">The first thing you should do is contact the seller directly.</p>,\n",
       " <p class=\"wt-mb-xs-2 ip-policy prose\">If you’ve already done that, your item hasn’t arrived, or it’s not as described, you can report that to Etsy by opening a case.</p>,\n",
       " <p class=\"wt-mb-xs-2 prose\">\n",
       " <a href=\"/uk/help/article/35\" target=\"_blank\">\n",
       "                             Report a problem with an order\n",
       "                         </a>\n",
       " </p>,\n",
       " <p class=\"wt-mb-xs-2 prose\">We take intellectual property concerns very seriously, but many of these problems can be resolved directly by the parties involved. We suggest contacting the seller directly to respectfully share your concerns.</p>,\n",
       " <p class=\"wt-mb-xs-2 prose\">If you’d like to file an allegation of infringement, you’ll need to follow the process described in our <a href=\"/legal/ip\" target=\"_blank\">Copyright and Intellectual Property Policy</a>.</p>,\n",
       " <p class=\"wt-text-title-01 wt-mb-xs-2\">Yes! Send me exclusive offers, unique gift ideas, and personalised tips for shopping and selling on Etsy.</p>,\n",
       " <p class=\"wt-mb-xs-3 wt-text-body-01\">\n",
       "                 Set where you live, what language you speak and the currency you use. <a class=\"wt-text-link\" href=\"https://www.etsy.com/uk/help/article/493\" target=\"_blank\">Learn more.</a>\n",
       " </p>]"
      ]
     },
     "metadata": {},
     "execution_count": 27
    }
   ],
   "source": [
    "price"
   ]
  },
  {
   "cell_type": "code",
   "execution_count": null,
   "metadata": {},
   "outputs": [],
   "source": []
  }
 ]
}